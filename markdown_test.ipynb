{
  "nbformat": 4,
  "nbformat_minor": 0,
  "metadata": {
    "colab": {
      "name": "markdown_test.ipynb",
      "provenance": [],
      "collapsed_sections": [],
      "authorship_tag": "ABX9TyM6tMX/jpIj9Bp7WhQXxmRk",
      "include_colab_link": true
    },
    "kernelspec": {
      "name": "python3",
      "display_name": "Python 3"
    }
  },
  "cells": [
    {
      "cell_type": "markdown",
      "metadata": {
        "id": "view-in-github",
        "colab_type": "text"
      },
      "source": [
        "<a href=\"https://colab.research.google.com/github/teang1995/review/blob/master/markdown_test.ipynb\" target=\"_parent\"><img src=\"https://colab.research.google.com/assets/colab-badge.svg\" alt=\"Open In Colab\"/></a>"
      ]
    },
    {
      "cell_type": "markdown",
      "metadata": {
        "id": "i72-q0yFgDOi",
        "colab_type": "text"
      },
      "source": [
        "#마크다운 테스트\n",
        "\n",
        "**이게 과연 깃허브에선 어떻게 보일지**\n",
        "\n",
        "과연 어떨까요?? 이 편지는 2018년부터 전해져온 편지입니다.\n",
        "\n",
        "\n",
        "\n",
        "1.   임용택\n",
        "2.   이강수\n",
        "3.   이상현\n",
        "\n"
      ]
    }
  ]
}